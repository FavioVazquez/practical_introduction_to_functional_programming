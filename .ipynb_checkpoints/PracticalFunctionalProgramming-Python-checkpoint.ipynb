{
 "cells": [
  {
   "cell_type": "markdown",
   "metadata": {},
   "source": [
    "# A practical introduction to functional programming"
   ]
  },
  {
   "cell_type": "markdown",
   "metadata": {},
   "source": [
    "Many functional programming articles teach abstract functional techniques. That is, composition, pipelining, higher order functions. This one is different. It shows examples of imperative, unfunctional code that people write every day and translates these examples to a functional style.\n",
    "\n",
    "The first section of the article takes short, data transforming loops and translates them into functional maps and reduces. The second section takes longer loops, breaks them up into units and makes each unit functional. The third section takes a loop that is a long series of successive data transformations and decomposes it into a functional pipeline.\n",
    "\n",
    "The examples are in Python, because many people find Python easy to read. A number of the examples eschew pythonicity in order to demonstrate functional techniques common to many languages: map, reduce, pipeline."
   ]
  },
  {
   "cell_type": "markdown",
   "metadata": {},
   "source": [
    "## A guide rope"
   ]
  },
  {
   "cell_type": "markdown",
   "metadata": {},
   "source": [
    "When people talk about functional programming, they mention a dizzying number of “functional” characteristics. They mention immutable data, first class functions and tail call optimisation. These are language features that aid functional programming. They mention mapping, reducing, pipelining, recursing, currying and the use of higher order functions. These are programming techniques used to write functional code. They mention parallelization, lazy evaluation and determinism. These are advantageous properties of functional programs.\n",
    "\n",
    "Ignore all that. Functional code is characterised by one thing: the absence of side effects. It doesn’t rely on data outside the current function, and it doesn’t change data that exists outside the current function. Every other “functional” thing can be derived from this property. Use it as a guide rope as you learn."
   ]
  },
  {
   "cell_type": "markdown",
   "metadata": {},
   "source": [
    "This is an unfunctional function:"
   ]
  },
  {
   "cell_type": "code",
   "execution_count": 2,
   "metadata": {
    "collapsed": true
   },
   "outputs": [],
   "source": [
    "a = 0\n",
    "def increment1():\n",
    "    global a\n",
    "    a += 1"
   ]
  },
  {
   "cell_type": "markdown",
   "metadata": {},
   "source": [
    "This is a functional function:"
   ]
  },
  {
   "cell_type": "code",
   "execution_count": 3,
   "metadata": {
    "collapsed": true
   },
   "outputs": [],
   "source": [
    "def increment2(a):\n",
    "    return a + 1"
   ]
  },
  {
   "cell_type": "markdown",
   "metadata": {},
   "source": [
    "## Don’t iterate over lists. Use map and reduce."
   ]
  },
  {
   "cell_type": "markdown",
   "metadata": {},
   "source": [
    "### Map\n",
    "\n",
    "Map takes a function and a collection of items. It makes a new, empty collection, runs the function on each item in the original collection and inserts each return value into the new collection. It returns the new collection."
   ]
  },
  {
   "cell_type": "markdown",
   "metadata": {},
   "source": [
    "This is a simple map that takes a list of names and returns a list of the lengths of those names:"
   ]
  },
  {
   "cell_type": "code",
   "execution_count": 4,
   "metadata": {
    "collapsed": false
   },
   "outputs": [
    {
     "name": "stdout",
     "output_type": "stream",
     "text": [
      "4\n",
      "4\n",
      "3\n"
     ]
    }
   ],
   "source": [
    "name_lengths = map(len, [\"Mary\", \"Isla\", \"Sam\"])\n",
    "\n",
    "for i in name_lengths:\n",
    "    print(i)"
   ]
  },
  {
   "cell_type": "markdown",
   "metadata": {},
   "source": [
    "This is a map that squares every number in the passed collection:"
   ]
  },
  {
   "cell_type": "code",
   "execution_count": 5,
   "metadata": {
    "collapsed": false
   },
   "outputs": [
    {
     "name": "stdout",
     "output_type": "stream",
     "text": [
      "0\n",
      "1\n",
      "4\n",
      "9\n",
      "16\n"
     ]
    }
   ],
   "source": [
    "squares = map(lambda x: x * x, [0, 1, 2, 3, 4])\n",
    "\n",
    "for i in squares:\n",
    "    print(i)"
   ]
  },
  {
   "cell_type": "markdown",
   "metadata": {},
   "source": [
    "This map doesn’t take a named function. It takes an anonymous, inlined function defined with lambda. The parameters of the lambda are defined to the left of the colon. The function body is defined to the right of the colon. The result of running the function body is (implicitly) returned."
   ]
  },
  {
   "cell_type": "markdown",
   "metadata": {},
   "source": [
    "The unfunctional code below takes a list of real names and replaces them with randomly assigned code names."
   ]
  },
  {
   "cell_type": "code",
   "execution_count": 6,
   "metadata": {
    "collapsed": false
   },
   "outputs": [
    {
     "name": "stdout",
     "output_type": "stream",
     "text": [
      "['Mr. Pink', 'Mr. Blonde', 'Mr. Orange']\n"
     ]
    }
   ],
   "source": [
    "import random\n",
    "\n",
    "names = ['Mary', 'Isla', 'Sam']\n",
    "code_names = ['Mr. Pink', 'Mr. Orange', 'Mr. Blonde']\n",
    "\n",
    "for i in range(len(names)):\n",
    "    names[i] = random.choice(code_names)\n",
    "\n",
    "print(names)"
   ]
  },
  {
   "cell_type": "markdown",
   "metadata": {},
   "source": [
    "(As you can see, this algorithm can potentially assign the same secret code name to multiple secret agents. Hopefully, this won’t be a source of confusion during the secret mission.)"
   ]
  },
  {
   "cell_type": "code",
   "execution_count": 7,
   "metadata": {
    "collapsed": true
   },
   "outputs": [],
   "source": [
    "import random\n",
    "\n",
    "names = ['Mary', 'Isla', 'Sam']\n",
    "\n",
    "secret_names = map(lambda x: random.choice(['Mr. Pink',\n",
    "                                            'Mr. Orange',\n",
    "                                            'Mr. Blonde']),\n",
    "                   names)"
   ]
  },
  {
   "cell_type": "code",
   "execution_count": 8,
   "metadata": {
    "collapsed": false
   },
   "outputs": [
    {
     "name": "stdout",
     "output_type": "stream",
     "text": [
      "Mr. Orange\n",
      "Mr. Pink\n",
      "Mr. Orange\n"
     ]
    }
   ],
   "source": [
    "for i in secret_names:\n",
    "    print(i)"
   ]
  },
  {
   "cell_type": "markdown",
   "metadata": {},
   "source": [
    "**Exercise 1**. Try rewriting the code below as a map. It takes a list of real names and replaces them with code names produced using a more robust strategy."
   ]
  },
  {
   "cell_type": "code",
   "execution_count": 9,
   "metadata": {
    "collapsed": false
   },
   "outputs": [
    {
     "name": "stdout",
     "output_type": "stream",
     "text": [
      "[3849404740043785450, -8506753469426942829, 4178894803509705258]\n"
     ]
    }
   ],
   "source": [
    "names = ['Mary', 'Isla', 'Sam']\n",
    "\n",
    "for i in range(len(names)):\n",
    "    names[i] = hash(names[i])\n",
    "\n",
    "print(names)"
   ]
  },
  {
   "cell_type": "markdown",
   "metadata": {},
   "source": [
    "(Hopefully, the secret agents will have good memories and won’t forget each other’s secret code names during the secret mission.)"
   ]
  },
  {
   "cell_type": "markdown",
   "metadata": {},
   "source": [
    "My solution:"
   ]
  },
  {
   "cell_type": "code",
   "execution_count": 10,
   "metadata": {
    "collapsed": true
   },
   "outputs": [],
   "source": [
    "names = ['Mary', 'Isla', 'Sam']\n",
    "\n",
    "secret_names = map(hash, names)"
   ]
  },
  {
   "cell_type": "code",
   "execution_count": 11,
   "metadata": {
    "collapsed": false
   },
   "outputs": [
    {
     "name": "stdout",
     "output_type": "stream",
     "text": [
      "3849404740043785450\n",
      "-8506753469426942829\n",
      "4178894803509705258\n"
     ]
    }
   ],
   "source": [
    "for i in secret_names:\n",
    "     print(i)"
   ]
  },
  {
   "cell_type": "markdown",
   "metadata": {},
   "source": [
    "## Reduce \n",
    "\n",
    "Reduce takes a function and a collection of items. It returns a value that is created by combining the items.\n",
    "\n",
    "This is a simple reduce. It returns the sum of all the items in the collection."
   ]
  },
  {
   "cell_type": "code",
   "execution_count": 15,
   "metadata": {
    "collapsed": false
   },
   "outputs": [
    {
     "name": "stdout",
     "output_type": "stream",
     "text": [
      "10\n"
     ]
    }
   ],
   "source": [
    "from functools import reduce #Since Python 3\n",
    "\n",
    "mysum = reduce(lambda a, x: a + x, [0, 1, 2, 3, 4])\n",
    "\n",
    "print(mysum)"
   ]
  },
  {
   "cell_type": "markdown",
   "metadata": {},
   "source": [
    "`x` is the current item being iterated over. a is the accumulator. It is the value returned by the execution of the lambda on the previous item. `reduce()` walks through the items. For each one, it runs the lambda on the current `a` and `x` and returns the result as the `a` of the next iteration.\n",
    "\n",
    "What is `a` in the first iteration? There is no previous iteration result for it to pass along. `reduce()` uses the first item in the collection for `a` in the first iteration and starts iterating at the second item. That is, the first `x` is the second item."
   ]
  },
  {
   "cell_type": "markdown",
   "metadata": {},
   "source": [
    "This code counts how often the word 'Sam' appears in a list of strings:"
   ]
  },
  {
   "cell_type": "code",
   "execution_count": 16,
   "metadata": {
    "collapsed": false
   },
   "outputs": [
    {
     "name": "stdout",
     "output_type": "stream",
     "text": [
      "3\n"
     ]
    }
   ],
   "source": [
    "sentences = ['Mary read a story to Sam and Isla.',\n",
    "             'Isla cuddled Sam.',\n",
    "             'Sam chortled.']\n",
    "\n",
    "sam_count1 = 0\n",
    "for sentence in sentences:\n",
    "    sam_count1 += sentence.count('Sam')\n",
    "\n",
    "print(sam_count1)"
   ]
  },
  {
   "cell_type": "code",
   "execution_count": 19,
   "metadata": {
    "collapsed": false
   },
   "outputs": [
    {
     "name": "stdout",
     "output_type": "stream",
     "text": [
      "3\n"
     ]
    }
   ],
   "source": [
    "sentences = ['Mary read a story to Sam and Isla.',\n",
    "             'Isla cuddled Sam.',\n",
    "             'Sam chortled.']\n",
    "\n",
    "sam_count2 = reduce(lambda a, x: a + x.count('Sam'),\n",
    "                   sentences,\n",
    "                   0)\n",
    "\n",
    "print(sam_count2)"
   ]
  },
  {
   "cell_type": "markdown",
   "metadata": {},
   "source": [
    "How does this code come up with its initial `a`? The starting point for the number of incidences of `'Sam'` cannot be 'Mary read a story to Sam and Isla.' The initial accumulator is specified with the third argument to `reduce()`. This allows the use of a value of a different type from the items in the collection.\n",
    "\n",
    "Why are map and reduce better?\n",
    "\n",
    "First, they are often one-liners.\n",
    "\n",
    "Second, the important parts of the iteration - the collection, the operation and the return value - are always in the same places in every map and reduce.\n",
    "\n",
    "Third, the code in a loop may affect variables defined before it or code that runs after it. By convention, maps and reduces are functional.\n",
    "\n",
    "Fourth, map and reduce are elemental operations. Every time a person reads a `for` loop, they have to work through the logic line by line. There are few structural regularities they can use to create a scaffolding on which to hang their understanding of the code. In contrast, map and reduce are at once building blocks that can be combined into complex algorithms, and elements that the code reader can instantly understand and abstract in their mind. “Ah, this code is transforming each item in this collection. It’s throwing some of the transformations away. It’s combining the remainder into a single output.”\n",
    "\n",
    "Fifth, map and reduce have many friends that provide useful, tweaked versions of their basic behaviour. For example: `filter`, `all`, `any` and `find`."
   ]
  },
  {
   "cell_type": "markdown",
   "metadata": {},
   "source": [
    "**Exercise 2**. Try rewriting the code below using map, reduce and filter. Filter takes a function and a collection. It returns a collection of every item for which the function returned True."
   ]
  },
  {
   "cell_type": "code",
   "execution_count": 20,
   "metadata": {
    "collapsed": false
   },
   "outputs": [
    {
     "name": "stdout",
     "output_type": "stream",
     "text": [
      "120.0\n"
     ]
    }
   ],
   "source": [
    "people = [{'name': 'Mary', 'height': 160},\n",
    "          {'name': 'Isla', 'height': 80},\n",
    "          {'name': 'Sam'}]\n",
    "\n",
    "height_total = 0\n",
    "height_count = 0\n",
    "for person in people:\n",
    "    if 'height' in person:\n",
    "        height_total += person['height']\n",
    "        height_count += 1\n",
    "\n",
    "if height_count > 0:\n",
    "    average_height = height_total / height_count\n",
    "    print(average_height)"
   ]
  },
  {
   "cell_type": "markdown",
   "metadata": {},
   "source": [
    "If this seems tricky, try not thinking about the operations on the data. Think of the states the data will go through, from the list of people dictionaries to the average height. Don’t try and bundle multiple transformations together. Put each on a separate line and assign the result to a descriptively-named variable. Once the code works, condense it."
   ]
  },
  {
   "cell_type": "code",
   "execution_count": 30,
   "metadata": {
    "collapsed": false
   },
   "outputs": [
    {
     "name": "stdout",
     "output_type": "stream",
     "text": [
      "120.0\n"
     ]
    }
   ],
   "source": [
    "people = [{'name': 'Mary', 'height': 160},\n",
    "          {'name': 'Isla', 'height': 80},\n",
    "          {'name': 'Sam'}]\n",
    "\n",
    "heights = map(lambda x: x['height'],\n",
    "              filter(lambda x: 'height' in x, people))\n",
    "\n",
    "heightsList = list(heights) # Neccesary in Python3\n",
    "\n",
    "if len(heightsList) > 0:\n",
    "    from operator import add\n",
    "    average_height = reduce(add, heightsList) / len(heightsList)\n",
    "    print(average_height)"
   ]
  },
  {
   "cell_type": "markdown",
   "metadata": {},
   "source": [
    "## Write declaratively, not imperatively"
   ]
  },
  {
   "cell_type": "markdown",
   "metadata": {},
   "source": [
    "The program below runs a race between three cars. At each time step, each car may move forwards or it may stall. At each time step, the program prints out the paths of the cars so far. After five time steps, the race is over."
   ]
  },
  {
   "cell_type": "markdown",
   "metadata": {},
   "source": [
    "##### -\n",
    "##### --\n",
    "##### --\n",
    "\n",
    "##### --\n",
    "##### --\n",
    "##### ---\n",
    "\n",
    "##### ---\n",
    "##### --\n",
    "##### ---\n",
    "\n",
    "##### ----\n",
    "##### ---\n",
    "##### ----\n",
    "\n",
    "##### ----\n",
    "##### ----\n",
    "##### -----"
   ]
  },
  {
   "cell_type": "markdown",
   "metadata": {},
   "source": [
    "This is the program:"
   ]
  },
  {
   "cell_type": "code",
   "execution_count": 34,
   "metadata": {
    "collapsed": false
   },
   "outputs": [
    {
     "name": "stdout",
     "output_type": "stream",
     "text": [
      "\n",
      "-\n",
      "-\n",
      "--\n",
      "\n",
      "-\n",
      "-\n",
      "---\n",
      "\n",
      "--\n",
      "-\n",
      "----\n",
      "\n",
      "---\n",
      "-\n",
      "-----\n",
      "\n",
      "---\n",
      "--\n",
      "------\n"
     ]
    }
   ],
   "source": [
    "from random import random\n",
    "\n",
    "time = 5\n",
    "car_positions = [1, 1, 1]\n",
    "\n",
    "while time:\n",
    "    # decrease time\n",
    "    time -= 1\n",
    "\n",
    "    print('')\n",
    "    for i in range(len(car_positions)):\n",
    "        # move car\n",
    "        if random() > 0.3:\n",
    "            car_positions[i] += 1\n",
    "\n",
    "        # draw car\n",
    "        print('-' * car_positions[i])"
   ]
  },
  {
   "cell_type": "markdown",
   "metadata": {},
   "source": [
    "The code is written imperatively. A functional version would be declarative. It would describe what to do, rather than how to do it."
   ]
  },
  {
   "cell_type": "markdown",
   "metadata": {},
   "source": [
    "### Use functions"
   ]
  },
  {
   "cell_type": "markdown",
   "metadata": {},
   "source": [
    "A program can be made more declarative by bundling pieces of the code into functions."
   ]
  },
  {
   "cell_type": "code",
   "execution_count": 39,
   "metadata": {
    "collapsed": false
   },
   "outputs": [
    {
     "name": "stdout",
     "output_type": "stream",
     "text": [
      "\n",
      "-\n",
      "-\n",
      "-\n",
      "\n",
      "--\n",
      "-\n",
      "--\n",
      "\n",
      "---\n",
      "--\n",
      "--\n",
      "\n",
      "----\n",
      "--\n",
      "---\n",
      "\n",
      "----\n",
      "--\n",
      "----\n"
     ]
    }
   ],
   "source": [
    "from random import random\n",
    "\n",
    "def move_cars():\n",
    "    for i, _ in enumerate(car_positions):\n",
    "        if random() > 0.3:\n",
    "            car_positions[i] += 1\n",
    "\n",
    "def draw_car(car_position):\n",
    "    print('-' * car_position)\n",
    "\n",
    "def run_step_of_race():\n",
    "    global time\n",
    "    time -= 1\n",
    "    move_cars()\n",
    "\n",
    "def draw():\n",
    "    print('')\n",
    "    for car_position in car_positions:\n",
    "        draw_car(car_position)\n",
    "\n",
    "time = 5\n",
    "car_positions = [1, 1, 1]\n",
    "\n",
    "while time:\n",
    "    run_step_of_race()\n",
    "    draw()"
   ]
  }
 ],
 "metadata": {
  "kernelspec": {
   "display_name": "Python 3",
   "language": "python",
   "name": "python3"
  },
  "language_info": {
   "codemirror_mode": {
    "name": "ipython",
    "version": 3
   },
   "file_extension": ".py",
   "mimetype": "text/x-python",
   "name": "python",
   "nbconvert_exporter": "python",
   "pygments_lexer": "ipython3",
   "version": "3.4.0"
  }
 },
 "nbformat": 4,
 "nbformat_minor": 0
}
